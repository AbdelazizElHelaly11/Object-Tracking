{
  "nbformat": 4,
  "nbformat_minor": 0,
  "metadata": {
    "colab": {
      "provenance": [],
      "gpuType": "T4"
    },
    "kernelspec": {
      "name": "python3",
      "display_name": "Python 3"
    },
    "language_info": {
      "name": "python"
    },
    "accelerator": "GPU"
  },
  "cells": [
    {
      "cell_type": "markdown",
      "source": [
        "# Install Dependencies"
      ],
      "metadata": {
        "id": "3z_PS4gg-NwG"
      }
    },
    {
      "cell_type": "code",
      "source": [
        "!pip install ultralytics"
      ],
      "metadata": {
        "colab": {
          "base_uri": "https://localhost:8080/"
        },
        "collapsed": true,
        "id": "s_AXsK96-Q9k",
        "outputId": "7dfd48fb-4ac5-4fc5-aa86-50fd9bda6661"
      },
      "execution_count": null,
      "outputs": [
        {
          "output_type": "stream",
          "name": "stdout",
          "text": [
            "Collecting ultralytics\n",
            "  Downloading ultralytics-8.3.181-py3-none-any.whl.metadata (37 kB)\n",
            "Requirement already satisfied: numpy>=1.23.0 in /usr/local/lib/python3.11/dist-packages (from ultralytics) (2.0.2)\n",
            "Requirement already satisfied: matplotlib>=3.3.0 in /usr/local/lib/python3.11/dist-packages (from ultralytics) (3.10.0)\n",
            "Requirement already satisfied: opencv-python>=4.6.0 in /usr/local/lib/python3.11/dist-packages (from ultralytics) (4.12.0.88)\n",
            "Requirement already satisfied: pillow>=7.1.2 in /usr/local/lib/python3.11/dist-packages (from ultralytics) (11.3.0)\n",
            "Requirement already satisfied: pyyaml>=5.3.1 in /usr/local/lib/python3.11/dist-packages (from ultralytics) (6.0.2)\n",
            "Requirement already satisfied: requests>=2.23.0 in /usr/local/lib/python3.11/dist-packages (from ultralytics) (2.32.3)\n",
            "Requirement already satisfied: scipy>=1.4.1 in /usr/local/lib/python3.11/dist-packages (from ultralytics) (1.16.1)\n",
            "Requirement already satisfied: torch>=1.8.0 in /usr/local/lib/python3.11/dist-packages (from ultralytics) (2.6.0+cu124)\n",
            "Requirement already satisfied: torchvision>=0.9.0 in /usr/local/lib/python3.11/dist-packages (from ultralytics) (0.21.0+cu124)\n",
            "Requirement already satisfied: tqdm>=4.64.0 in /usr/local/lib/python3.11/dist-packages (from ultralytics) (4.67.1)\n",
            "Requirement already satisfied: psutil in /usr/local/lib/python3.11/dist-packages (from ultralytics) (5.9.5)\n",
            "Requirement already satisfied: py-cpuinfo in /usr/local/lib/python3.11/dist-packages (from ultralytics) (9.0.0)\n",
            "Requirement already satisfied: pandas>=1.1.4 in /usr/local/lib/python3.11/dist-packages (from ultralytics) (2.2.2)\n",
            "Collecting ultralytics-thop>=2.0.0 (from ultralytics)\n",
            "  Downloading ultralytics_thop-2.0.15-py3-none-any.whl.metadata (14 kB)\n",
            "Requirement already satisfied: contourpy>=1.0.1 in /usr/local/lib/python3.11/dist-packages (from matplotlib>=3.3.0->ultralytics) (1.3.3)\n",
            "Requirement already satisfied: cycler>=0.10 in /usr/local/lib/python3.11/dist-packages (from matplotlib>=3.3.0->ultralytics) (0.12.1)\n",
            "Requirement already satisfied: fonttools>=4.22.0 in /usr/local/lib/python3.11/dist-packages (from matplotlib>=3.3.0->ultralytics) (4.59.0)\n",
            "Requirement already satisfied: kiwisolver>=1.3.1 in /usr/local/lib/python3.11/dist-packages (from matplotlib>=3.3.0->ultralytics) (1.4.9)\n",
            "Requirement already satisfied: packaging>=20.0 in /usr/local/lib/python3.11/dist-packages (from matplotlib>=3.3.0->ultralytics) (25.0)\n",
            "Requirement already satisfied: pyparsing>=2.3.1 in /usr/local/lib/python3.11/dist-packages (from matplotlib>=3.3.0->ultralytics) (3.2.3)\n",
            "Requirement already satisfied: python-dateutil>=2.7 in /usr/local/lib/python3.11/dist-packages (from matplotlib>=3.3.0->ultralytics) (2.9.0.post0)\n",
            "Requirement already satisfied: pytz>=2020.1 in /usr/local/lib/python3.11/dist-packages (from pandas>=1.1.4->ultralytics) (2025.2)\n",
            "Requirement already satisfied: tzdata>=2022.7 in /usr/local/lib/python3.11/dist-packages (from pandas>=1.1.4->ultralytics) (2025.2)\n",
            "Requirement already satisfied: charset-normalizer<4,>=2 in /usr/local/lib/python3.11/dist-packages (from requests>=2.23.0->ultralytics) (3.4.3)\n",
            "Requirement already satisfied: idna<4,>=2.5 in /usr/local/lib/python3.11/dist-packages (from requests>=2.23.0->ultralytics) (3.10)\n",
            "Requirement already satisfied: urllib3<3,>=1.21.1 in /usr/local/lib/python3.11/dist-packages (from requests>=2.23.0->ultralytics) (2.5.0)\n",
            "Requirement already satisfied: certifi>=2017.4.17 in /usr/local/lib/python3.11/dist-packages (from requests>=2.23.0->ultralytics) (2025.8.3)\n",
            "Requirement already satisfied: filelock in /usr/local/lib/python3.11/dist-packages (from torch>=1.8.0->ultralytics) (3.18.0)\n",
            "Requirement already satisfied: typing-extensions>=4.10.0 in /usr/local/lib/python3.11/dist-packages (from torch>=1.8.0->ultralytics) (4.14.1)\n",
            "Requirement already satisfied: networkx in /usr/local/lib/python3.11/dist-packages (from torch>=1.8.0->ultralytics) (3.5)\n",
            "Requirement already satisfied: jinja2 in /usr/local/lib/python3.11/dist-packages (from torch>=1.8.0->ultralytics) (3.1.6)\n",
            "Requirement already satisfied: fsspec in /usr/local/lib/python3.11/dist-packages (from torch>=1.8.0->ultralytics) (2025.3.0)\n",
            "Collecting nvidia-cuda-nvrtc-cu12==12.4.127 (from torch>=1.8.0->ultralytics)\n",
            "  Downloading nvidia_cuda_nvrtc_cu12-12.4.127-py3-none-manylinux2014_x86_64.whl.metadata (1.5 kB)\n",
            "Collecting nvidia-cuda-runtime-cu12==12.4.127 (from torch>=1.8.0->ultralytics)\n",
            "  Downloading nvidia_cuda_runtime_cu12-12.4.127-py3-none-manylinux2014_x86_64.whl.metadata (1.5 kB)\n",
            "Collecting nvidia-cuda-cupti-cu12==12.4.127 (from torch>=1.8.0->ultralytics)\n",
            "  Downloading nvidia_cuda_cupti_cu12-12.4.127-py3-none-manylinux2014_x86_64.whl.metadata (1.6 kB)\n",
            "Collecting nvidia-cudnn-cu12==9.1.0.70 (from torch>=1.8.0->ultralytics)\n",
            "  Downloading nvidia_cudnn_cu12-9.1.0.70-py3-none-manylinux2014_x86_64.whl.metadata (1.6 kB)\n",
            "Collecting nvidia-cublas-cu12==12.4.5.8 (from torch>=1.8.0->ultralytics)\n",
            "  Downloading nvidia_cublas_cu12-12.4.5.8-py3-none-manylinux2014_x86_64.whl.metadata (1.5 kB)\n",
            "Collecting nvidia-cufft-cu12==11.2.1.3 (from torch>=1.8.0->ultralytics)\n",
            "  Downloading nvidia_cufft_cu12-11.2.1.3-py3-none-manylinux2014_x86_64.whl.metadata (1.5 kB)\n",
            "Collecting nvidia-curand-cu12==10.3.5.147 (from torch>=1.8.0->ultralytics)\n",
            "  Downloading nvidia_curand_cu12-10.3.5.147-py3-none-manylinux2014_x86_64.whl.metadata (1.5 kB)\n",
            "Collecting nvidia-cusolver-cu12==11.6.1.9 (from torch>=1.8.0->ultralytics)\n",
            "  Downloading nvidia_cusolver_cu12-11.6.1.9-py3-none-manylinux2014_x86_64.whl.metadata (1.6 kB)\n",
            "Collecting nvidia-cusparse-cu12==12.3.1.170 (from torch>=1.8.0->ultralytics)\n",
            "  Downloading nvidia_cusparse_cu12-12.3.1.170-py3-none-manylinux2014_x86_64.whl.metadata (1.6 kB)\n",
            "Requirement already satisfied: nvidia-cusparselt-cu12==0.6.2 in /usr/local/lib/python3.11/dist-packages (from torch>=1.8.0->ultralytics) (0.6.2)\n",
            "Collecting nvidia-nccl-cu12==2.21.5 (from torch>=1.8.0->ultralytics)\n",
            "  Downloading nvidia_nccl_cu12-2.21.5-py3-none-manylinux2014_x86_64.whl.metadata (1.8 kB)\n",
            "Requirement already satisfied: nvidia-nvtx-cu12==12.4.127 in /usr/local/lib/python3.11/dist-packages (from torch>=1.8.0->ultralytics) (12.4.127)\n",
            "Collecting nvidia-nvjitlink-cu12==12.4.127 (from torch>=1.8.0->ultralytics)\n",
            "  Downloading nvidia_nvjitlink_cu12-12.4.127-py3-none-manylinux2014_x86_64.whl.metadata (1.5 kB)\n",
            "Requirement already satisfied: triton==3.2.0 in /usr/local/lib/python3.11/dist-packages (from torch>=1.8.0->ultralytics) (3.2.0)\n",
            "Requirement already satisfied: sympy==1.13.1 in /usr/local/lib/python3.11/dist-packages (from torch>=1.8.0->ultralytics) (1.13.1)\n",
            "Requirement already satisfied: mpmath<1.4,>=1.1.0 in /usr/local/lib/python3.11/dist-packages (from sympy==1.13.1->torch>=1.8.0->ultralytics) (1.3.0)\n",
            "Requirement already satisfied: six>=1.5 in /usr/local/lib/python3.11/dist-packages (from python-dateutil>=2.7->matplotlib>=3.3.0->ultralytics) (1.17.0)\n",
            "Requirement already satisfied: MarkupSafe>=2.0 in /usr/local/lib/python3.11/dist-packages (from jinja2->torch>=1.8.0->ultralytics) (3.0.2)\n",
            "Downloading ultralytics-8.3.181-py3-none-any.whl (1.0 MB)\n",
            "\u001b[2K   \u001b[90m━━━━━━━━━━━━━━━━━━━━━━━━━━━━━━━━━━━━━━━━\u001b[0m \u001b[32m1.0/1.0 MB\u001b[0m \u001b[31m29.0 MB/s\u001b[0m eta \u001b[36m0:00:00\u001b[0m\n",
            "\u001b[?25hDownloading nvidia_cublas_cu12-12.4.5.8-py3-none-manylinux2014_x86_64.whl (363.4 MB)\n",
            "\u001b[2K   \u001b[90m━━━━━━━━━━━━━━━━━━━━━━━━━━━━━━━━━━━━━━━━\u001b[0m \u001b[32m363.4/363.4 MB\u001b[0m \u001b[31m4.1 MB/s\u001b[0m eta \u001b[36m0:00:00\u001b[0m\n",
            "\u001b[?25hDownloading nvidia_cuda_cupti_cu12-12.4.127-py3-none-manylinux2014_x86_64.whl (13.8 MB)\n",
            "\u001b[2K   \u001b[90m━━━━━━━━━━━━━━━━━━━━━━━━━━━━━━━━━━━━━━━━\u001b[0m \u001b[32m13.8/13.8 MB\u001b[0m \u001b[31m122.3 MB/s\u001b[0m eta \u001b[36m0:00:00\u001b[0m\n",
            "\u001b[?25hDownloading nvidia_cuda_nvrtc_cu12-12.4.127-py3-none-manylinux2014_x86_64.whl (24.6 MB)\n",
            "\u001b[2K   \u001b[90m━━━━━━━━━━━━━━━━━━━━━━━━━━━━━━━━━━━━━━━━\u001b[0m \u001b[32m24.6/24.6 MB\u001b[0m \u001b[31m94.5 MB/s\u001b[0m eta \u001b[36m0:00:00\u001b[0m\n",
            "\u001b[?25hDownloading nvidia_cuda_runtime_cu12-12.4.127-py3-none-manylinux2014_x86_64.whl (883 kB)\n",
            "\u001b[2K   \u001b[90m━━━━━━━━━━━━━━━━━━━━━━━━━━━━━━━━━━━━━━━━\u001b[0m \u001b[32m883.7/883.7 kB\u001b[0m \u001b[31m52.4 MB/s\u001b[0m eta \u001b[36m0:00:00\u001b[0m\n",
            "\u001b[?25hDownloading nvidia_cudnn_cu12-9.1.0.70-py3-none-manylinux2014_x86_64.whl (664.8 MB)\n",
            "\u001b[2K   \u001b[90m━━━━━━━━━━━━━━━━━━━━━━━━━━━━━━━━━━━━━━━━\u001b[0m \u001b[32m664.8/664.8 MB\u001b[0m \u001b[31m2.7 MB/s\u001b[0m eta \u001b[36m0:00:00\u001b[0m\n",
            "\u001b[?25hDownloading nvidia_cufft_cu12-11.2.1.3-py3-none-manylinux2014_x86_64.whl (211.5 MB)\n",
            "\u001b[2K   \u001b[90m━━━━━━━━━━━━━━━━━━━━━━━━━━━━━━━━━━━━━━━━\u001b[0m \u001b[32m211.5/211.5 MB\u001b[0m \u001b[31m5.5 MB/s\u001b[0m eta \u001b[36m0:00:00\u001b[0m\n",
            "\u001b[?25hDownloading nvidia_curand_cu12-10.3.5.147-py3-none-manylinux2014_x86_64.whl (56.3 MB)\n",
            "\u001b[2K   \u001b[90m━━━━━━━━━━━━━━━━━━━━━━━━━━━━━━━━━━━━━━━━\u001b[0m \u001b[32m56.3/56.3 MB\u001b[0m \u001b[31m12.5 MB/s\u001b[0m eta \u001b[36m0:00:00\u001b[0m\n",
            "\u001b[?25hDownloading nvidia_cusolver_cu12-11.6.1.9-py3-none-manylinux2014_x86_64.whl (127.9 MB)\n",
            "\u001b[2K   \u001b[90m━━━━━━━━━━━━━━━━━━━━━━━━━━━━━━━━━━━━━━━━\u001b[0m \u001b[32m127.9/127.9 MB\u001b[0m \u001b[31m7.6 MB/s\u001b[0m eta \u001b[36m0:00:00\u001b[0m\n",
            "\u001b[?25hDownloading nvidia_cusparse_cu12-12.3.1.170-py3-none-manylinux2014_x86_64.whl (207.5 MB)\n",
            "\u001b[2K   \u001b[90m━━━━━━━━━━━━━━━━━━━━━━━━━━━━━━━━━━━━━━━━\u001b[0m \u001b[32m207.5/207.5 MB\u001b[0m \u001b[31m5.2 MB/s\u001b[0m eta \u001b[36m0:00:00\u001b[0m\n",
            "\u001b[?25hDownloading nvidia_nccl_cu12-2.21.5-py3-none-manylinux2014_x86_64.whl (188.7 MB)\n",
            "\u001b[2K   \u001b[90m━━━━━━━━━━━━━━━━━━━━━━━━━━━━━━━━━━━━━━━━\u001b[0m \u001b[32m188.7/188.7 MB\u001b[0m \u001b[31m6.0 MB/s\u001b[0m eta \u001b[36m0:00:00\u001b[0m\n",
            "\u001b[?25hDownloading nvidia_nvjitlink_cu12-12.4.127-py3-none-manylinux2014_x86_64.whl (21.1 MB)\n",
            "\u001b[2K   \u001b[90m━━━━━━━━━━━━━━━━━━━━━━━━━━━━━━━━━━━━━━━━\u001b[0m \u001b[32m21.1/21.1 MB\u001b[0m \u001b[31m100.8 MB/s\u001b[0m eta \u001b[36m0:00:00\u001b[0m\n",
            "\u001b[?25hDownloading ultralytics_thop-2.0.15-py3-none-any.whl (28 kB)\n",
            "Installing collected packages: nvidia-nvjitlink-cu12, nvidia-nccl-cu12, nvidia-curand-cu12, nvidia-cufft-cu12, nvidia-cuda-runtime-cu12, nvidia-cuda-nvrtc-cu12, nvidia-cuda-cupti-cu12, nvidia-cublas-cu12, nvidia-cusparse-cu12, nvidia-cudnn-cu12, nvidia-cusolver-cu12, ultralytics-thop, ultralytics\n",
            "  Attempting uninstall: nvidia-nvjitlink-cu12\n",
            "    Found existing installation: nvidia-nvjitlink-cu12 12.5.82\n",
            "    Uninstalling nvidia-nvjitlink-cu12-12.5.82:\n",
            "      Successfully uninstalled nvidia-nvjitlink-cu12-12.5.82\n",
            "  Attempting uninstall: nvidia-nccl-cu12\n",
            "    Found existing installation: nvidia-nccl-cu12 2.23.4\n",
            "    Uninstalling nvidia-nccl-cu12-2.23.4:\n",
            "      Successfully uninstalled nvidia-nccl-cu12-2.23.4\n",
            "  Attempting uninstall: nvidia-curand-cu12\n",
            "    Found existing installation: nvidia-curand-cu12 10.3.6.82\n",
            "    Uninstalling nvidia-curand-cu12-10.3.6.82:\n",
            "      Successfully uninstalled nvidia-curand-cu12-10.3.6.82\n",
            "  Attempting uninstall: nvidia-cufft-cu12\n",
            "    Found existing installation: nvidia-cufft-cu12 11.2.3.61\n",
            "    Uninstalling nvidia-cufft-cu12-11.2.3.61:\n",
            "      Successfully uninstalled nvidia-cufft-cu12-11.2.3.61\n",
            "  Attempting uninstall: nvidia-cuda-runtime-cu12\n",
            "    Found existing installation: nvidia-cuda-runtime-cu12 12.5.82\n",
            "    Uninstalling nvidia-cuda-runtime-cu12-12.5.82:\n",
            "      Successfully uninstalled nvidia-cuda-runtime-cu12-12.5.82\n",
            "  Attempting uninstall: nvidia-cuda-nvrtc-cu12\n",
            "    Found existing installation: nvidia-cuda-nvrtc-cu12 12.5.82\n",
            "    Uninstalling nvidia-cuda-nvrtc-cu12-12.5.82:\n",
            "      Successfully uninstalled nvidia-cuda-nvrtc-cu12-12.5.82\n",
            "  Attempting uninstall: nvidia-cuda-cupti-cu12\n",
            "    Found existing installation: nvidia-cuda-cupti-cu12 12.5.82\n",
            "    Uninstalling nvidia-cuda-cupti-cu12-12.5.82:\n",
            "      Successfully uninstalled nvidia-cuda-cupti-cu12-12.5.82\n",
            "  Attempting uninstall: nvidia-cublas-cu12\n",
            "    Found existing installation: nvidia-cublas-cu12 12.5.3.2\n",
            "    Uninstalling nvidia-cublas-cu12-12.5.3.2:\n",
            "      Successfully uninstalled nvidia-cublas-cu12-12.5.3.2\n",
            "  Attempting uninstall: nvidia-cusparse-cu12\n",
            "    Found existing installation: nvidia-cusparse-cu12 12.5.1.3\n",
            "    Uninstalling nvidia-cusparse-cu12-12.5.1.3:\n",
            "      Successfully uninstalled nvidia-cusparse-cu12-12.5.1.3\n",
            "  Attempting uninstall: nvidia-cudnn-cu12\n",
            "    Found existing installation: nvidia-cudnn-cu12 9.3.0.75\n",
            "    Uninstalling nvidia-cudnn-cu12-9.3.0.75:\n",
            "      Successfully uninstalled nvidia-cudnn-cu12-9.3.0.75\n",
            "  Attempting uninstall: nvidia-cusolver-cu12\n",
            "    Found existing installation: nvidia-cusolver-cu12 11.6.3.83\n",
            "    Uninstalling nvidia-cusolver-cu12-11.6.3.83:\n",
            "      Successfully uninstalled nvidia-cusolver-cu12-11.6.3.83\n",
            "Successfully installed nvidia-cublas-cu12-12.4.5.8 nvidia-cuda-cupti-cu12-12.4.127 nvidia-cuda-nvrtc-cu12-12.4.127 nvidia-cuda-runtime-cu12-12.4.127 nvidia-cudnn-cu12-9.1.0.70 nvidia-cufft-cu12-11.2.1.3 nvidia-curand-cu12-10.3.5.147 nvidia-cusolver-cu12-11.6.1.9 nvidia-cusparse-cu12-12.3.1.170 nvidia-nccl-cu12-2.21.5 nvidia-nvjitlink-cu12-12.4.127 ultralytics-8.3.181 ultralytics-thop-2.0.15\n"
          ]
        }
      ]
    },
    {
      "cell_type": "markdown",
      "source": [
        "# Importings"
      ],
      "metadata": {
        "id": "wTaNuKDL-Wti"
      }
    },
    {
      "cell_type": "code",
      "execution_count": null,
      "metadata": {
        "colab": {
          "base_uri": "https://localhost:8080/"
        },
        "id": "bZqxOTiw-DPP",
        "outputId": "3c21a904-dce7-4b6e-ed94-b5ac4dbbd4c6"
      },
      "outputs": [
        {
          "output_type": "stream",
          "name": "stdout",
          "text": [
            "Mounted at /content/drive\n"
          ]
        }
      ],
      "source": [
        "from google.colab import drive\n",
        "import cv2\n",
        "import numpy as np\n",
        "import time\n",
        "from ultralytics import YOLO\n",
        "from scipy.spatial.distance import euclidean\n",
        "import os\n",
        "from base64 import b64encode\n",
        "from IPython.display import HTML\n",
        "drive.mount('/content/drive')"
      ]
    },
    {
      "cell_type": "markdown",
      "source": [
        "# YOLO MODEL\n",
        "\n",
        "\n"
      ],
      "metadata": {
        "id": "1xO8PhC8AJd6"
      }
    },
    {
      "cell_type": "code",
      "source": [
        "model = YOLO(\"yolo12n.pt\")"
      ],
      "metadata": {
        "colab": {
          "base_uri": "https://localhost:8080/"
        },
        "id": "N5G4fM_-AIj0",
        "outputId": "ed3d5414-2cbd-42a1-b7ff-4bbd9283b20e"
      },
      "execution_count": null,
      "outputs": [
        {
          "output_type": "stream",
          "name": "stderr",
          "text": [
            "Downloading https://github.com/ultralytics/assets/releases/download/v8.3.0/yolo12n.pt to 'yolo12n.pt': 100%|██████████| 5.34M/5.34M [00:00<00:00, 92.9MB/s]\n"
          ]
        }
      ]
    },
    {
      "cell_type": "markdown",
      "source": [
        "# Input & Output"
      ],
      "metadata": {
        "id": "nREdb3ZUATC2"
      }
    },
    {
      "cell_type": "code",
      "source": [
        "video_path = \"/content/drive/MyDrive/Object Detection/Input.mp4\"\n",
        "output_path = \"/content/drive/MyDrive/Object Detection/detection_output_yolov12.mp4\""
      ],
      "metadata": {
        "id": "etFJl1IiARiq"
      },
      "execution_count": null,
      "outputs": []
    },
    {
      "cell_type": "code",
      "source": [
        "cap = cv2.VideoCapture(video_path)\n",
        "w = int(cap.get(cv2.CAP_PROP_FRAME_WIDTH))\n",
        "h = int(cap.get(cv2.CAP_PROP_FRAME_HEIGHT))\n",
        "fps = int(cap.get(cv2.CAP_PROP_FPS))\n",
        "fourcc = cv2.VideoWriter_fourcc(*\"mp4v\")\n",
        "out = cv2.VideoWriter(output_path, fourcc, fps, (w, h))"
      ],
      "metadata": {
        "id": "bGJ1UGjzAwCR"
      },
      "execution_count": null,
      "outputs": []
    },
    {
      "cell_type": "markdown",
      "source": [
        "# Tracking Parameters"
      ],
      "metadata": {
        "id": "18UeZ-zeA0KA"
      }
    },
    {
      "cell_type": "code",
      "source": [
        "CONFIDENCE_THRESHOLD = 0.55 #Pc\n",
        "MAX_PERSON_COUNT = 500"
      ],
      "metadata": {
        "id": "-KUgOV3RAz-D"
      },
      "execution_count": null,
      "outputs": []
    },
    {
      "cell_type": "code",
      "source": [
        "# Complete track history (no limit)\n",
        "track_history = {}"
      ],
      "metadata": {
        "id": "dc3nBnvJA5uR"
      },
      "execution_count": null,
      "outputs": []
    },
    {
      "cell_type": "code",
      "source": [
        "# ID mapping and management\n",
        "id_mapping = {} #Maps original IDs to consistent IDs\n",
        "last_positions = {} #Stores the last known position of each ID\n",
        "assigned_ids = set() #set of assigned consistent IDs\n",
        "track_colors = {} #Consistent colors for each ID"
      ],
      "metadata": {
        "id": "aji0kd_2A63l"
      },
      "execution_count": null,
      "outputs": []
    },
    {
      "cell_type": "markdown",
      "source": [
        "# IOU (Interseciton over Union)"
      ],
      "metadata": {
        "id": "Kuhmpp8tA7os"
      }
    },
    {
      "cell_type": "code",
      "source": [
        "def calculate_iou(box1, box2):\n",
        "    x1_inter = max(box1[0], box2[0])\n",
        "    y1_inter = max(box1[1], box2[1])\n",
        "    x2_inter = min(box1[2], box2[2])\n",
        "    y2_inter = min(box1[3], box2[3])\n",
        "\n",
        "    width_inter = max(0, x2_inter - x1_inter)\n",
        "    height_inter = max(0, y2_inter - y1_inter)\n",
        "    area_inter = width_inter * height_inter\n",
        "\n",
        "    area_box1 = (box1[2] - box1[0]) * (box1[3] - box1[1])\n",
        "    area_box2 = (box2[2] - box2[0]) * (box2[3] - box2[1])\n",
        "\n",
        "    area_union = area_box1 + area_box2 - area_inter\n",
        "\n",
        "    if area_union == 0: # no overlap\n",
        "        return 0\n",
        "\n",
        "    return area_inter / area_union"
      ],
      "metadata": {
        "id": "uxDNIiQOA94M"
      },
      "execution_count": null,
      "outputs": []
    },
    {
      "cell_type": "code",
      "source": [
        "tracker_config = \"bytetrack.yaml\""
      ],
      "metadata": {
        "id": "W3MHeet0BFKl"
      },
      "execution_count": null,
      "outputs": []
    },
    {
      "cell_type": "code",
      "source": [
        "frame_count = 0\n",
        "inference_times = []"
      ],
      "metadata": {
        "id": "nFA4GOyNBGQJ"
      },
      "execution_count": null,
      "outputs": []
    },
    {
      "cell_type": "code",
      "source": [
        "# Dictionary to store previous frames' detections for ID consistency\n",
        "previous_detections = {}  # {consistent_id: [box, frame_last_seen]}"
      ],
      "metadata": {
        "id": "lJyeKh22BHVp"
      },
      "execution_count": null,
      "outputs": []
    },
    {
      "cell_type": "code",
      "source": [
        "prev_boxes = []\n",
        "prev_ids = []"
      ],
      "metadata": {
        "id": "SBj4wfVkBIPH"
      },
      "execution_count": null,
      "outputs": []
    },
    {
      "cell_type": "markdown",
      "source": [
        "# YOLO Detection"
      ],
      "metadata": {
        "id": "ab235_UWBI5T"
      }
    },
    {
      "cell_type": "code",
      "source": [
        "while cap.isOpened():\n",
        "    success, frame = cap.read()\n",
        "    if not success:\n",
        "        break\n",
        "\n",
        "    start_time = time.time()\n",
        "    frame_count += 1\n",
        "\n",
        "    #detection + tracking\n",
        "    results = model.track(\n",
        "        source=frame,\n",
        "        conf=CONFIDENCE_THRESHOLD,\n",
        "        iou=0.45,\n",
        "        classes=[0],  # Only 'person'\n",
        "        persist=True,\n",
        "        verbose=False,\n",
        "        stream=False,\n",
        "        tracker=tracker_config\n",
        "    )[0]\n",
        "\n",
        "    #Get current detections\n",
        "    current_boxes = []\n",
        "    current_ids = []\n",
        "\n",
        "    if results.boxes.id is not None:\n",
        "        for box, original_id_tensor in zip(results.boxes.xyxy, results.boxes.id):\n",
        "            box_coords = box.tolist()\n",
        "            original_id = int(original_id_tensor.item())\n",
        "            current_boxes.append(box_coords)\n",
        "            current_ids.append(original_id)\n",
        "\n",
        "    #Process each detection and maintain consistent IDs\n",
        "    processed_ids = set()\n",
        "\n",
        "    #First, handle detections with existing mappings\n",
        "    for i, original_id in enumerate(current_ids):\n",
        "        if original_id in id_mapping:\n",
        "            consistent_id = id_mapping[original_id]\n",
        "            x1, y1, x2, y2 = map(int, current_boxes[i])\n",
        "\n",
        "            #Update previous detections\n",
        "            previous_detections[consistent_id] = [current_boxes[i], frame_count]\n",
        "            processed_ids.add(original_id)\n",
        "\n",
        "            #Update or create track history\n",
        "            root_point = (int((x1 + x2) / 2), y2) # Bottom center\n",
        "            if consistent_id not in track_history:\n",
        "                track_history[consistent_id] = []\n",
        "            track_history[consistent_id].append(root_point)\n",
        "            last_positions[consistent_id] = root_point\n",
        "\n",
        "    #Then, handle new detections with no existing mappings\n",
        "    for i, original_id in enumerate(current_ids):\n",
        "        if original_id in processed_ids:\n",
        "            continue\n",
        "\n",
        "        x1, y1, x2, y2 = map(int, current_boxes[i])\n",
        "        current_box = current_boxes[i]\n",
        "        found_match = False\n",
        "\n",
        "        #Check if this is a reappearance of a previously seen person\n",
        "        for consistent_id, (prev_box, last_frame) in list(previous_detections.items()):\n",
        "            # only consider IDs that haven't been matched yet and within reasonable time window\n",
        "            if consistent_id not in [id_mapping.get(pid) for pid in processed_ids] and frame_count - last_frame < 60:\n",
        "                #Calculate IoU and position similarity\n",
        "                iou = calculate_iou(current_box, prev_box)\n",
        "\n",
        "                prev_center_x = (prev_box[0] + prev_box[2]) / 2\n",
        "                prev_center_y = (prev_box[1] + prev_box[3]) / 2\n",
        "                curr_center_x = (current_box[0] + current_box[2]) / 2\n",
        "                curr_center_y = (current_box[1] + current_box[3]) / 2\n",
        "\n",
        "                distance = np.sqrt((prev_center_x - curr_center_x)**2 + (prev_center_y - curr_center_y)**2)\n",
        "\n",
        "                #If high IoU or close distance, this is likely the same person\n",
        "                if iou > 0.3 or distance < 150:\n",
        "                    id_mapping[original_id] = consistent_id\n",
        "                    previous_detections[consistent_id] = [current_box, frame_count]\n",
        "                    found_match = True\n",
        "\n",
        "                    #Update track history\n",
        "                    root_point = (int((x1 + x2) / 2), y2)\n",
        "                    track_history[consistent_id].append(root_point)\n",
        "                    last_positions[consistent_id] = root_point\n",
        "                    processed_ids.add(original_id)\n",
        "                    break\n",
        "\n",
        "        #If no match found, assign new consistent ID\n",
        "        if not found_match:\n",
        "            if not assigned_ids or len(assigned_ids) < MAX_PERSON_COUNT:\n",
        "                #Generate a new consistent ID\n",
        "                if not assigned_ids:\n",
        "                    new_id = 1\n",
        "                else:\n",
        "                    new_id = max(assigned_ids) + 1\n",
        "\n",
        "                assigned_ids.add(new_id)\n",
        "                id_mapping[original_id] = new_id\n",
        "\n",
        "                #Initialize track history\n",
        "                root_point = (int((x1 + x2) / 2), y2)\n",
        "                track_history[new_id] = [root_point]\n",
        "                last_positions[new_id] = root_point\n",
        "                previous_detections[new_id] = [current_box, frame_count]\n",
        "            else:\n",
        "                #Find the closest existing ID\n",
        "                min_dist = float('inf')\n",
        "                closest_id = None\n",
        "                root_point = (int((x1 + x2) / 2), y2)\n",
        "\n",
        "                for existing_id in assigned_ids:\n",
        "                    if existing_id in last_positions:\n",
        "                        dist = euclidean(root_point, last_positions[existing_id])\n",
        "                        if dist < min_dist:\n",
        "                            min_dist = dist\n",
        "                            closest_id = existing_id\n",
        "\n",
        "                if closest_id is not None and min_dist < 200:  #Threshold for assignment\n",
        "                    id_mapping[original_id] = closest_id\n",
        "                    track_history[closest_id].append(root_point)\n",
        "                    last_positions[closest_id] = root_point\n",
        "                    previous_detections[closest_id] = [current_box, frame_count]\n",
        "                else:\n",
        "                    #Replace the oldest ID if necessary\n",
        "                    oldest_id = min(previous_detections, key=lambda k: previous_detections[k][1]) if previous_detections else None\n",
        "                    if oldest_id and frame_count - previous_detections[oldest_id][1] > 120:  #4 seconds at 30fps\n",
        "                        id_mapping[original_id] = oldest_id\n",
        "                        track_history[oldest_id] = [root_point]  #Reset trail for clarity\n",
        "                        last_positions[oldest_id] = root_point\n",
        "                        previous_detections[oldest_id] = [current_box, frame_count]\n",
        "                    else:\n",
        "                        # As last resort, create a new ID even beyond MAX_PERSON_COUNT\n",
        "                        new_id = max(assigned_ids) + 1 if assigned_ids else 1\n",
        "                        assigned_ids.add(new_id)\n",
        "                        id_mapping[original_id] = new_id\n",
        "                        track_history[new_id] = [root_point]\n",
        "                        last_positions[new_id] = root_point\n",
        "                        previous_detections[new_id] = [current_box, frame_count]\n",
        "\n",
        "    #Draw all tracked objects with consistent IDs\n",
        "    if results.boxes.id is not None:\n",
        "        for box, original_id_tensor in zip(results.boxes.xyxy, results.boxes.id):\n",
        "            original_id = int(original_id_tensor.item())\n",
        "            if original_id in id_mapping:\n",
        "                consistent_id = id_mapping[original_id]\n",
        "                x1, y1, x2, y2 = map(int, box.tolist())\n",
        "\n",
        "                #Generate consistent color based on consistent ID\n",
        "                if consistent_id not in track_colors:\n",
        "                    #Seed with consistent_id for reproducible colors\n",
        "                    np.random.seed(consistent_id * 100)\n",
        "                    track_colors[consistent_id] = tuple(map(int, np.random.randint(0, 255, 3)))\n",
        "\n",
        "                color = track_colors[consistent_id]\n",
        "\n",
        "                #Draw bounding box and ID\n",
        "                cv2.rectangle(frame, (x1, y1), (x2, y2), color, 2)\n",
        "                cv2.line(frame, (x1, y2), (x2, y2), color, thickness=5)\n",
        "\n",
        "                #Draw label with consistent ID\n",
        "                label = f\"ID {consistent_id}\"\n",
        "                label_size, _ = cv2.getTextSize(label, cv2.FONT_HERSHEY_SIMPLEX, 0.8, 2)\n",
        "                cv2.rectangle(frame, (x1, y1 - label_size[1] - 5), (x1 + label_size[0] + 5, y1), color, -1)\n",
        "                cv2.putText(frame, label, (x1 + 3, y1 - 5), cv2.FONT_HERSHEY_SIMPLEX, 0.8, (255, 255, 255), 2)\n",
        "\n",
        "                #Draw full trail\n",
        "                if consistent_id in track_history:\n",
        "                    for i in range(1, len(track_history[consistent_id])):\n",
        "                        cv2.line(frame, track_history[consistent_id][i-1], track_history[consistent_id][i],\n",
        "                               color, thickness=3)\n",
        "\n",
        "    #Clean up old entries from previous_detections\n",
        "    for consistent_id in list(previous_detections.keys()):\n",
        "        if frame_count - previous_detections[consistent_id][1] > 300:  # 10 seconds at 30fps\n",
        "            # Keep the ID in assigned_ids but remove from active tracking\n",
        "            if consistent_id in previous_detections:\n",
        "                del previous_detections[consistent_id]\n",
        "\n",
        "    #Draw frame counter\n",
        "    cv2.putText(frame, f\"Frame: {frame_count}\", (10, 30), cv2.FONT_HERSHEY_SIMPLEX, 1, (0, 0, 255), 2)\n",
        "\n",
        "    #Write the frame to output video\n",
        "    out.write(frame)\n",
        "\n",
        "    #Save previous state\n",
        "    prev_boxes = current_boxes.copy()\n",
        "    prev_ids = current_ids.copy()\n",
        "\n",
        "    #Track inference time\n",
        "    inference_time = time.time() - start_time\n",
        "    inference_times.append(inference_time)\n",
        "\n",
        "    if frame_count % 100 == 0:\n",
        "        print(f\"Processed {frame_count} frames...\")\n",
        "        print(f\"Current active IDs: {sorted(list(assigned_ids))}\")\n",
        "\n",
        "# Cleanup\n",
        "cap.release()\n",
        "out.release()"
      ],
      "metadata": {
        "colab": {
          "base_uri": "https://localhost:8080/"
        },
        "id": "zM-f7bGbBZHb",
        "outputId": "fca671e9-8d80-45f6-988e-dfecf1089289"
      },
      "execution_count": null,
      "outputs": [
        {
          "output_type": "stream",
          "name": "stdout",
          "text": [
            "\u001b[31m\u001b[1mrequirements:\u001b[0m Ultralytics requirement ['lap>=0.5.12'] not found, attempting AutoUpdate...\n",
            "\n",
            "\u001b[31m\u001b[1mrequirements:\u001b[0m AutoUpdate success ✅ 0.6s\n",
            "WARNING ⚠️ \u001b[31m\u001b[1mrequirements:\u001b[0m \u001b[1mRestart runtime or rerun command for updates to take effect\u001b[0m\n",
            "\n",
            "Processed 100 frames...\n",
            "Current active IDs: []\n",
            "Processed 200 frames...\n",
            "Current active IDs: [1]\n",
            "Processed 300 frames...\n",
            "Current active IDs: [1]\n",
            "Processed 400 frames...\n",
            "Current active IDs: [1]\n",
            "Processed 500 frames...\n",
            "Current active IDs: [1]\n",
            "Processed 600 frames...\n",
            "Current active IDs: [1, 2]\n",
            "Processed 700 frames...\n",
            "Current active IDs: [1, 2]\n",
            "Processed 800 frames...\n",
            "Current active IDs: [1, 2]\n",
            "Processed 900 frames...\n",
            "Current active IDs: [1, 2]\n",
            "Processed 1000 frames...\n",
            "Current active IDs: [1, 2]\n",
            "Processed 1100 frames...\n",
            "Current active IDs: [1, 2, 3]\n",
            "Processed 1200 frames...\n",
            "Current active IDs: [1, 2, 3]\n",
            "Processed 1300 frames...\n",
            "Current active IDs: [1, 2, 3]\n",
            "Processed 1400 frames...\n",
            "Current active IDs: [1, 2, 3]\n"
          ]
        }
      ]
    },
    {
      "cell_type": "markdown",
      "source": [
        "# Result"
      ],
      "metadata": {
        "id": "5dpTI1eFBcjU"
      }
    },
    {
      "cell_type": "code",
      "source": [
        "# Statistics\n",
        "avg_inference_time = np.mean(inference_times)\n",
        "avg_fps = 1 / avg_inference_time if avg_inference_time > 0 else 0\n",
        "\n",
        "print(f\"✅ Output saved: {output_path}\")\n",
        "print(f\"📈 Avg Inference Time/Frame: {avg_inference_time:.4f} sec\")\n",
        "print(f\"🎞️ Avg FPS: {avg_fps:.2f}\")\n",
        "print(f\"👥 Unique IDs tracked: {len(assigned_ids)}\")\n",
        "print(f\"🔄 ID mapping summary: {id_mapping}\")"
      ],
      "metadata": {
        "colab": {
          "base_uri": "https://localhost:8080/"
        },
        "id": "oDQC-B7MBa1c",
        "outputId": "069ea24e-b2a2-4fbd-c7c8-12c15fd41667"
      },
      "execution_count": null,
      "outputs": [
        {
          "output_type": "stream",
          "name": "stdout",
          "text": [
            "✅ Output saved: /content/drive/MyDrive/Object Detection/detection_output_yolov12.mp4\n",
            "📈 Avg Inference Time/Frame: 0.0374 sec\n",
            "🎞️ Avg FPS: 26.72\n",
            "👥 Unique IDs tracked: 3\n",
            "🔄 ID mapping summary: {2: 1, 6: 2, 8: 2, 9: 3, 12: 1, 13: 1, 14: 2}\n"
          ]
        }
      ]
    },
    {
      "cell_type": "code",
      "source": [
        "original_output_path = \"/kaggle/working/detection_output_yolov12.mp4\"\n",
        "reencoded_output_path = \"/kaggle/working/detection_output_yolov12_reencoded.mp4\"\n",
        "\n",
        "reencode_cmd = f\"ffmpeg -y -i {original_output_path} -c:v libx264 -pix_fmt yuv420p {reencoded_output_path}\"\n",
        "reencode_result = os.system(reencode_cmd)\n",
        "\n",
        "if reencode_result != 0 or not os.path.exists(reencoded_output_path):\n",
        "    raise RuntimeError(f\"Failed to re-encode output video. ffmpeg return code: {reencode_result}\")\n",
        "\n",
        "with open(reencoded_output_path, 'rb') as f:\n",
        "    mp4 = f.read()\n",
        "\n",
        "data_url = \"data:video/mp4;base64,\" + b64encode(mp4).decode()\n",
        "\n",
        "HTML(f\"\"\"\n",
        "<video width=600 controls>\n",
        "    <source src=\"{data_url}\" type=\"video/mp4\">\n",
        "</video>\n",
        "\"\"\")"
      ],
      "metadata": {
        "id": "w5WDndmOBhF5"
      },
      "execution_count": null,
      "outputs": []
    }
  ]
}